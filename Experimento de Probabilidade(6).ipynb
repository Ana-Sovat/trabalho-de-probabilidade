{
 "cells": [
  {
   "cell_type": "markdown",
   "metadata": {},
   "source": [
    "# Experimento: Porta dos Desesperados\n",
    "## Aluna: Ana Carolina Tavares Sovat\n",
    "## RA: 134867"
   ]
  },
  {
   "cell_type": "markdown",
   "metadata": {},
   "source": [
    "Neste experimento pretendemos simular a situação discutida em sala de aula, repetindo o experimento múltiplas vezes para assim verificar qual é a melhor estratégia nessa situação."
   ]
  },
  {
   "cell_type": "markdown",
   "metadata": {},
   "source": [
    "A situação é a seguinte: em um programa de auditório, um dos jogos consiste em três portas fechadas, uma das quais esconde um prêmio."
   ]
  },
  {
   "cell_type": "code",
   "execution_count": 1,
   "metadata": {},
   "outputs": [
    {
     "name": "stdout",
     "output_type": "stream",
     "text": [
      "O prêmio está atrás da porta B.\n"
     ]
    }
   ],
   "source": [
    "import random\n",
    "\n",
    "portas = ['A','B','C']\n",
    "\n",
    "premio = random.choice(portas)\n",
    "\n",
    "print(\"O prêmio está atrás da porta {}.\".format(premio))"
   ]
  },
  {
   "cell_type": "markdown",
   "metadata": {},
   "source": [
    "O participante escolhe, ao acaso, uma das portas."
   ]
  },
  {
   "cell_type": "code",
   "execution_count": 2,
   "metadata": {},
   "outputs": [
    {
     "name": "stdout",
     "output_type": "stream",
     "text": [
      "O participante escolheu a porta A.\n"
     ]
    }
   ],
   "source": [
    "primeiraEscolha = random.choice(portas)\n",
    "\n",
    "print(\"O participante escolheu a porta {}.\".format(primeiraEscolha))"
   ]
  },
  {
   "cell_type": "markdown",
   "metadata": {},
   "source": [
    "Antes de revelar se o participante escolheu a porta certa, o apresentador abre uma segunda porta, que não foi escolhida, e revela que atrás dela não há um prêmio. Essa porta que é aberta, portanto, necessariamente não é a porta premiada, nem a porta escolhida pelo jogador."
   ]
  },
  {
   "cell_type": "code",
   "execution_count": 3,
   "metadata": {},
   "outputs": [
    {
     "name": "stdout",
     "output_type": "stream",
     "text": [
      "O apresentador abriu a porta C.\n"
     ]
    }
   ],
   "source": [
    "sobrou = [a for a in portas if a not in premio and a not in primeiraEscolha]\n",
    "\n",
    "aberta = random.choice(sobrou)\n",
    "\n",
    "print(\"O apresentador abriu a porta {}.\".format(aberta))"
   ]
  },
  {
   "cell_type": "markdown",
   "metadata": {},
   "source": [
    "Nesse momento, é dada uma escolha ao participante. Ele pode continuar com a porta que escolheu, ou trocá-la pela outra porta fechada.\n",
    "\n",
    "No final, se a porta escolhida for a porta certa, a estratégia escolhida pelo participante obteve sucesso."
   ]
  },
  {
   "cell_type": "code",
   "execution_count": 16,
   "metadata": {},
   "outputs": [
    {
     "name": "stdout",
     "output_type": "stream",
     "text": [
      "A opção é trocar a porta escolhida (porta A), pela porta B.\n",
      "\n",
      "O participante escolheu trocar a porta.\n",
      "B\n",
      "O participante ganhou o prêmio!\n"
     ]
    }
   ],
   "source": [
    "opcao = [a for a in portas if a not in aberta and a not in primeiraEscolha]\n",
    "\n",
    "print(\"A opção é trocar a porta escolhida (porta {}), pela porta {}.\".format(primeiraEscolha,opcao[0]))\n",
    "print()\n",
    "troca = random.choice([True,False])\n",
    "\n",
    "if troca:\n",
    "    escolha = opcao[0]\n",
    "    print(\"O participante escolheu trocar a porta.\")\n",
    "else:\n",
    "    escolha = primeiraEscolha\n",
    "    print(\"O participante escolheu manter sua porta.\")\n",
    "\n",
    "if escolha == premio:\n",
    "    print(\"O participante ganhou o prêmio!\")\n",
    "else:\n",
    "    print(\"O participante perdeu!\")"
   ]
  },
  {
   "cell_type": "markdown",
   "metadata": {},
   "source": [
    "Este experimento busca determinar qual dessas estratégias tem maior chance de sucesso. Para tanto, pretendemos repetir o experimento múltiplas vezes, escolhendo cada vez uma das estratégias, e verificar qual é a proporção de sucessos para cada uma.\n",
    "\n",
    "Para repetir o experimento muitas vezes, condensamos essa simulação feita até agora em uma só função. A função recebe o parâmetro \"troca\" (True/False), que decide se o participante troca ou não sua porta, e retorna \"True\", simbolizando o sucesso, ou \"False\", simbolizando o fracasso."
   ]
  },
  {
   "cell_type": "code",
   "execution_count": 27,
   "metadata": {},
   "outputs": [],
   "source": [
    "def experimento(troca):\n",
    "    portas = ['A','B','C']\n",
    "    premio = random.choice(portas)\n",
    "    primeiraEscolha = random.choice(portas)\n",
    "    sobrou = [a for a in portas if a not in premio and a not in primeiraEscolha]\n",
    "    aberta = random.choice(sobrou)\n",
    "    opcao = [a for a in portas if a not in aberta and a not in primeiraEscolha]\n",
    "    if troca:\n",
    "        escolha = opcao[0]\n",
    "    else:\n",
    "        escolha = primeiraEscolha\n",
    "    if escolha==premio:\n",
    "        return True\n",
    "    else:\n",
    "        return False\n",
    "    "
   ]
  },
  {
   "cell_type": "code",
   "execution_count": 68,
   "metadata": {},
   "outputs": [
    {
     "name": "stdout",
     "output_type": "stream",
     "text": [
      "0.3303\n"
     ]
    }
   ],
   "source": [
    "naotroca = []\n",
    "for i in range(10000):\n",
    "    naotroca.append(experimento(False))\n",
    "\n",
    "acumuladonao = []\n",
    "total = 0\n",
    "for i in range(10000):\n",
    "    if naotroca[i]:\n",
    "        total = total + 1\n",
    "    acumuladonao.append(total/(i+1))\n",
    "    \n",
    "print(total/10000)"
   ]
  },
  {
   "cell_type": "code",
   "execution_count": 69,
   "metadata": {},
   "outputs": [
    {
     "name": "stdout",
     "output_type": "stream",
     "text": [
      "0.6711\n"
     ]
    }
   ],
   "source": [
    "trocasim = []\n",
    "for i in range(10000):\n",
    "    trocasim.append(experimento(True))\n",
    "\n",
    "acumuladosim = []\n",
    "total = 0\n",
    "for i in range(10000):\n",
    "    if trocasim[i]:\n",
    "        total = total + 1\n",
    "    acumuladosim.append(total/(i+1))\n",
    "\n",
    "print(total/10000)"
   ]
  },
  {
   "cell_type": "code",
   "execution_count": 70,
   "metadata": {},
   "outputs": [
    {
     "data": {
      "image/png": "[encoded data removed]",
      "text/plain": [
       "<Figure size 432x288 with 1 Axes>"
      ]
     },
     "metadata": {
      "needs_background": "light"
     },
     "output_type": "display_data"
    }
   ],
   "source": [
    "import matplotlib.pyplot as plt\n",
    "%matplotlib inline\n",
    "\n",
    "plt.plot([a+1 for a in range(10000)],acumuladonao,[a+1 for a in range(10000)],acumuladosim)\n",
    "plt.ylabel('número de sucessos')\n",
    "plt.xlabel('número de experimentos')\n",
    "plt.show()\n",
    "\n"
   ]
  },
  {
   "cell_type": "markdown",
   "metadata": {},
   "source": [
    "A proporção de acertos conseguidos com a estratégia de trocar a porta pode ser vista no gráfico em laranja, enquanto a porporção relativa à estratégia de manter a porta pode ser vista em azul. Conforme o número de experimentos aumenta, ambas as proporções se aproximam de um valor constante, sendo o valor para a estratégia de trocar a porta (aproximadamente 66%) bem maior do que o valor da estratégia oposta (aproximadamente 33%)."
   ]
  }
 ],
 "metadata": {
  "kernelspec": {
   "display_name": "Python 3",
   "language": "python",
   "name": "python3"
  },
  "language_info": {
   "codemirror_mode": {
    "name": "ipython",
    "version": 3
   },
   "file_extension": ".py",
   "mimetype": "text/x-python",
   "name": "python",
   "nbconvert_exporter": "python",
   "pygments_lexer": "ipython3",
   "version": "3.6.7"
  }
 },
 "nbformat": 4,
 "nbformat_minor": 2
}
